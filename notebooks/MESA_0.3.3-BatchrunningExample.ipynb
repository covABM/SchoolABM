{
 "cells": [
  {
   "cell_type": "markdown",
   "metadata": {},
   "source": [
    "##### Setup\n",
    "Error: the datatype for boolean values in google sheet seems to be either unretrievable or (if changed to 1 or 0) converted to float which would give an error in model run, if this can be fix"
   ]
  },
  {
   "cell_type": "code",
   "execution_count": 1,
   "metadata": {},
   "outputs": [],
   "source": [
    "import sys\n",
    "sys.path.append('src')\n",
    "\n",
    "\n",
    "\n",
    "#Data Analysis \n",
    "import geopandas as gpd\n",
    "import pandas as pd\n",
    "import numpy as np\n",
    "\n",
    "\n",
    "\n",
    "#Plot\n",
    "import matplotlib.pyplot as plt\n",
    "import gc\n",
    "\n",
    "\n",
    "#multiprocessing\n",
    "import multiprocessing\n",
    "import brun\n",
    "\n",
    "\n",
    "#model\n",
    "from school_model import School\n",
    "\n",
    "#spreadsheets\n",
    "import spreadsheets"
   ]
  },
  {
   "cell_type": "markdown",
   "metadata": {},
   "source": [
    "# Parameter Setup\n",
    "Here using a test trial small schedule with 5 steps of class per day\n",
    "<br>\n",
    "Run for 15 days"
   ]
  },
  {
   "cell_type": "code",
   "execution_count": 2,
   "metadata": {},
   "outputs": [],
   "source": [
    "map_path = \"../layouts/schoollayout1/schoollayout1.shp\"\n",
    "schedule_path = \"small_schedule.csv\" #small schedule has only 5 steps per day for testing purposes\n",
    "#full day schedule should be \"day_schedule.csv\" \n",
    "\n",
    "\n",
    "# if you wish to use google sheet parameter input, you'll have to follow instructions for getting credentials of the sheet api\n",
    "# follow the first two steps in:\n",
    "# https://developers.google.com/sheets/api/quickstart/python\n",
    "# and save your credentials in the src folder as listed below\n",
    "SHEET_URL = 'https://docs.google.com/spreadsheets/d/1Quyyey5B_kdQK1_OU0OkIDGZE27tuUfjZ6hCsV99-sM'\n",
    "credentials = './src/credentials.json'\n",
    "\n",
    "\n",
    "# two types of parameter setups available for batchrunner\n",
    "# pre-setup for fixed/variable parameter dictionaries (consistant with mesa batchrunner)\n",
    "######################\n",
    "grade_N = 350\n",
    "KG_N = 50\n",
    "preschool_N = 50\n",
    "special_education_N = 10\n",
    "faculty_N = 40\n",
    "seat_dist = 12\n",
    "mask_prob = 0.516\n",
    "days = 15\n",
    "max_steps = 15*5\n",
    "iterations = 1\n",
    "####################"
   ]
  },
  {
   "cell_type": "code",
   "execution_count": 4,
   "metadata": {},
   "outputs": [],
   "source": [
    "# fixed parameters are model input parameters that are static for all batch running jobs\n",
    "fixed_parameters = {}\n",
    "\n",
    "\n",
    "fixed_parameters['grade_N'] = grade_N\n",
    "fixed_parameters['KG_N'] = KG_N\n",
    "fixed_parameters['preschool_N'] = preschool_N\n",
    "fixed_parameters['special_education_N'] = special_education_N\n",
    "fixed_parameters['faculty_N'] = faculty_N\n",
    "fixed_parameters['seat_dist'] = 12\n",
    "fixed_parameters['init_patient'] = 3\n",
    "fixed_parameters['mask_prob'] = 0.25\n",
    "\n",
    "# same logic as fixed parameters, only these will be batch ran for all combinations \n",
    "variable_parameters = {}\n",
    "variable_parameters['attend_rate'] = [0.25, 0.5, 0.75, 1]\n",
    "variable_parameters['inclass_lunch'] = [True, False]\n",
    "#variable_parameters['mask_prob'] = [0, 0.25, 0.5, 0.75, 1]"
   ]
  },
  {
   "cell_type": "code",
   "execution_count": 5,
   "metadata": {},
   "outputs": [
    {
     "name": "stdout",
     "output_type": "stream",
     "text": [
      "Please visit this URL to authorize this application: https://accounts.google.com/o/oauth2/auth?response_type=code&client_id=539291806604-l4elavfdt9fff15g37eon1ilbeeijm6j.apps.googleusercontent.com&redirect_uri=http%3A%2F%2Flocalhost%3A61248%2F&scope=https%3A%2F%2Fwww.googleapis.com%2Fauth%2Fspreadsheets.readonly&state=CC6SY0f23ag7rxlPbDZgTdhALLctyH&access_type=offline\n"
     ]
    }
   ],
   "source": [
    "# dataframe parameter setup that can port with google sheet\n",
    "# TODO: currently the sheet script cannot retrieve boolean values so this input method is not fully functioning\n",
    "# namely inclass_lunch\n",
    "# should be an easy fix\n",
    "\n",
    "param_df = spreadsheets.return_params_df(sheet_url=SHEET_URL, credentials=credentials)"
   ]
  },
  {
   "cell_type": "code",
   "execution_count": 6,
   "metadata": {},
   "outputs": [
    {
     "data": {
      "text/html": [
       "<div>\n",
       "<style scoped>\n",
       "    .dataframe tbody tr th:only-of-type {\n",
       "        vertical-align: middle;\n",
       "    }\n",
       "\n",
       "    .dataframe tbody tr th {\n",
       "        vertical-align: top;\n",
       "    }\n",
       "\n",
       "    .dataframe thead th {\n",
       "        text-align: right;\n",
       "    }\n",
       "</style>\n",
       "<table border=\"1\" class=\"dataframe\">\n",
       "  <thead>\n",
       "    <tr style=\"text-align: right;\">\n",
       "      <th></th>\n",
       "      <th>grade_N</th>\n",
       "      <th>KG_N</th>\n",
       "      <th>preschool_N</th>\n",
       "      <th>special_education_N</th>\n",
       "      <th>faculty_N</th>\n",
       "      <th>seat_dist</th>\n",
       "      <th>init_patient</th>\n",
       "      <th>mask_prob</th>\n",
       "      <th>attend_rate</th>\n",
       "      <th>inclass_lunch</th>\n",
       "    </tr>\n",
       "  </thead>\n",
       "  <tbody>\n",
       "    <tr>\n",
       "      <th>1</th>\n",
       "      <td>350</td>\n",
       "      <td>50</td>\n",
       "      <td>10</td>\n",
       "      <td>10</td>\n",
       "      <td>40</td>\n",
       "      <td>12</td>\n",
       "      <td>3</td>\n",
       "      <td>0.516</td>\n",
       "      <td>0.5</td>\n",
       "      <td>1</td>\n",
       "    </tr>\n",
       "    <tr>\n",
       "      <th>2</th>\n",
       "      <td>350</td>\n",
       "      <td>50</td>\n",
       "      <td>10</td>\n",
       "      <td>10</td>\n",
       "      <td>40</td>\n",
       "      <td>12</td>\n",
       "      <td>3</td>\n",
       "      <td>0.000</td>\n",
       "      <td>0.5</td>\n",
       "      <td>1</td>\n",
       "    </tr>\n",
       "    <tr>\n",
       "      <th>3</th>\n",
       "      <td>350</td>\n",
       "      <td>50</td>\n",
       "      <td>10</td>\n",
       "      <td>10</td>\n",
       "      <td>40</td>\n",
       "      <td>12</td>\n",
       "      <td>3</td>\n",
       "      <td>0.516</td>\n",
       "      <td>0.5</td>\n",
       "      <td>0</td>\n",
       "    </tr>\n",
       "    <tr>\n",
       "      <th>4</th>\n",
       "      <td>350</td>\n",
       "      <td>50</td>\n",
       "      <td>10</td>\n",
       "      <td>10</td>\n",
       "      <td>40</td>\n",
       "      <td>12</td>\n",
       "      <td>3</td>\n",
       "      <td>0.000</td>\n",
       "      <td>0.5</td>\n",
       "      <td>0</td>\n",
       "    </tr>\n",
       "    <tr>\n",
       "      <th>5</th>\n",
       "      <td>350</td>\n",
       "      <td>50</td>\n",
       "      <td>10</td>\n",
       "      <td>10</td>\n",
       "      <td>40</td>\n",
       "      <td>12</td>\n",
       "      <td>3</td>\n",
       "      <td>0.516</td>\n",
       "      <td>1.0</td>\n",
       "      <td>1</td>\n",
       "    </tr>\n",
       "    <tr>\n",
       "      <th>6</th>\n",
       "      <td>350</td>\n",
       "      <td>50</td>\n",
       "      <td>10</td>\n",
       "      <td>10</td>\n",
       "      <td>40</td>\n",
       "      <td>12</td>\n",
       "      <td>3</td>\n",
       "      <td>0.000</td>\n",
       "      <td>1.0</td>\n",
       "      <td>1</td>\n",
       "    </tr>\n",
       "    <tr>\n",
       "      <th>7</th>\n",
       "      <td>350</td>\n",
       "      <td>50</td>\n",
       "      <td>10</td>\n",
       "      <td>10</td>\n",
       "      <td>40</td>\n",
       "      <td>12</td>\n",
       "      <td>3</td>\n",
       "      <td>0.516</td>\n",
       "      <td>1.0</td>\n",
       "      <td>0</td>\n",
       "    </tr>\n",
       "    <tr>\n",
       "      <th>8</th>\n",
       "      <td>350</td>\n",
       "      <td>50</td>\n",
       "      <td>10</td>\n",
       "      <td>10</td>\n",
       "      <td>40</td>\n",
       "      <td>12</td>\n",
       "      <td>3</td>\n",
       "      <td>0.000</td>\n",
       "      <td>1.0</td>\n",
       "      <td>0</td>\n",
       "    </tr>\n",
       "  </tbody>\n",
       "</table>\n",
       "</div>"
      ],
      "text/plain": [
       "   grade_N  KG_N  preschool_N  special_education_N  faculty_N  seat_dist  \\\n",
       "1      350    50           10                   10         40         12   \n",
       "2      350    50           10                   10         40         12   \n",
       "3      350    50           10                   10         40         12   \n",
       "4      350    50           10                   10         40         12   \n",
       "5      350    50           10                   10         40         12   \n",
       "6      350    50           10                   10         40         12   \n",
       "7      350    50           10                   10         40         12   \n",
       "8      350    50           10                   10         40         12   \n",
       "\n",
       "   init_patient  mask_prob  attend_rate  inclass_lunch  \n",
       "1             3      0.516          0.5              1  \n",
       "2             3      0.000          0.5              1  \n",
       "3             3      0.516          0.5              0  \n",
       "4             3      0.000          0.5              0  \n",
       "5             3      0.516          1.0              1  \n",
       "6             3      0.000          1.0              1  \n",
       "7             3      0.516          1.0              0  \n",
       "8             3      0.000          1.0              0  "
      ]
     },
     "execution_count": 6,
     "metadata": {},
     "output_type": "execute_result"
    }
   ],
   "source": [
    "param_df"
   ]
  },
  {
   "cell_type": "markdown",
   "metadata": {},
   "source": [
    "# Multiprocessing Run"
   ]
  },
  {
   "cell_type": "code",
   "execution_count": 6,
   "metadata": {},
   "outputs": [
    {
     "name": "stdout",
     "output_type": "stream",
     "text": [
      "Your system has 8 available processors.\n"
     ]
    }
   ],
   "source": [
    "if __name__ ==  '__main__': \n",
    "    # for more on multiprocessing, check src/brun \n",
    "    batchrunner = brun.BatchrunnerMP(model=School, \n",
    "                                     map_path=map_path,\n",
    "                                     schedule_path=schedule_path,\n",
    "                                     max_steps=max_steps, \n",
    "                                     iterations=iterations, \n",
    "                                     fixed_parameters=fixed_parameters, \n",
    "                                     variable_parameters=variable_parameters)\n",
    "    results = batchrunner.run_all()"
   ]
  },
  {
   "cell_type": "code",
   "execution_count": 7,
   "metadata": {},
   "outputs": [
    {
     "data": {
      "text/plain": [
       "8"
      ]
     },
     "execution_count": 7,
     "metadata": {},
     "output_type": "execute_result"
    }
   ],
   "source": [
    "len(results)"
   ]
  },
  {
   "cell_type": "code",
   "execution_count": null,
   "metadata": {},
   "outputs": [],
   "source": []
  }
 ],
 "metadata": {
  "kernelspec": {
   "display_name": "Python 3",
   "language": "python",
   "name": "python3"
  },
  "language_info": {
   "codemirror_mode": {
    "name": "ipython",
    "version": 3
   },
   "file_extension": ".py",
   "mimetype": "text/x-python",
   "name": "python",
   "nbconvert_exporter": "python",
   "pygments_lexer": "ipython3",
   "version": "3.7.6"
  },
  "toc": {
   "base_numbering": 1,
   "nav_menu": {},
   "number_sections": false,
   "sideBar": false,
   "skip_h1_title": false,
   "title_cell": "Table of Contents",
   "title_sidebar": "Contents",
   "toc_cell": false,
   "toc_position": {},
   "toc_section_display": false,
   "toc_window_display": false
  }
 },
 "nbformat": 4,
 "nbformat_minor": 4
}
