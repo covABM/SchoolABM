{
 "cells": [
  {
   "cell_type": "code",
   "execution_count": 16,
   "metadata": {},
   "outputs": [],
   "source": [
    "# imports\n",
    "import math\n",
    "import numpy as np\n",
    "import pandas as pd\n",
    "from scipy import stats"
   ]
  },
  {
   "cell_type": "code",
   "execution_count": null,
   "metadata": {},
   "outputs": [],
   "source": []
  },
  {
   "cell_type": "code",
   "execution_count": 26,
   "metadata": {},
   "outputs": [
    {
     "data": {
      "text/plain": [
       "{0: 7, 1: 4}"
      ]
     },
     "execution_count": 26,
     "metadata": {},
     "output_type": "execute_result"
    }
   ],
   "source": [
    "# setup variables and functions\n",
    "\n",
    "# countdown until symptoms appear: probability curve\n",
    "shape, loc, scale =  (0.6432659248014824, -0.07787673726582335, 4.2489459496009125)\n",
    "x = np.linspace(0, 17, 1000)\n",
    "countdown_curve = stats.lognorm(s=shape, loc=loc, scale=scale)\n",
    "\n",
    "# create infectiveness reference dataframe\n",
    "shape, loc, scale = (20.16693271833812, -12.132674385322815, 0.6322296057082886)\n",
    "x = np.linspace(-10, 8, 19)\n",
    "infective_df = pd.DataFrame({'x': list(x), 'gamma': list(stats.gamma.pdf(x, a=shape, loc=loc, scale=scale))})\n",
    "               \n",
    "\n",
    "# initialize students\n",
    "num_infected = 2\n",
    "num_uninfected = 23\n",
    "# initialize infected countdown for each student\n",
    "infected = {i: int(np.round(stats.lognorm.rvs(shape, loc, scale, size=1)[0], 0)) for i in range(num_infected)}\n",
    "# \n",
    "uninfected = {i: 0 for i in range(num_uninfected)}\n",
    "chu_distance_curve = 1/2.02\n",
    "\n",
    "# initialize infected positions\n",
    "inf_pos = {i: [0, i] for i in range(infected)}\n",
    "print(inf_pos)\n",
    "# initialize uninfected positions\n",
    "\n",
    "\n",
    "def droplet_infect(infect_id, uninfect_id, distance):\n",
    "    transmission_baseline = infective_df[infective_df.x == -1 * time]\n",
    "    distance_multiplier = get_dist_multiplier(distance)\n",
    "    return transmission_baseline * distance_multiplier\n",
    "\n",
    "def return_aerosol_transmission_rate(floor_area, room_height,\n",
    "                            air_exchange_rate, \n",
    "                            aerosol_filtration_eff, relative_humidity, breathing_flow_rate,\n",
    "                            exhaled_air_inf, max_viral_deact_rate, mask_passage_prob, \n",
    "                            max_aerosol_radius=2, primary_outdoor_air_fraction=0.2):\n",
    "    \n",
    "    mean_ceiling_height_m = mean_ceiling_height * 0.3048 #m3\n",
    "    room_vol = floor_area * mean_ceiling_height  # ft3\n",
    "    room_vol_m = 0.0283168 * room_vol  # m3\n",
    "\n",
    "    fresh_rate = room_vol * air_exchange_rate / 60  # ft3/min\n",
    "    recirc_rate = fresh_rate * (1/primary_outdoor_air_fraction - 1)  # ft3/min\n",
    "    air_filt_rate = aerosol_filtration_eff * recirc_rate * 60 / room_vol  # /hr\n",
    "    eff_aerosol_radius = ((0.4 / (1 - relative_humidity)) ** (1 / 3)) * max_aerosol_radius\n",
    "    viral_deact_rate = max_viral_deact_rate * relative_humidity\n",
    "    sett_speed = 3 * (eff_aerosol_radius / 5) ** 2  # mm/s\n",
    "    sett_speed = sett_speed * 60 * 60 / 1000  # m/hr\n",
    "    conc_relax_rate = air_exchange_rate + air_filt_rate + viral_deact_rate + sett_speed / mean_ceiling_height_m  # /hr\n",
    "    airb_trans_rate = ((breathing_flow_rate * mask_passage_prob) ** 2) * exhaled_air_inf / (room_vol_m * conc_relax_rate)\n",
    "    \n",
    "    return airb_trans_rate #This is mean number of transmissions per hour between pair of infected / healthy individuals\n",
    "\n",
    "def get_distance(infect_id, uninfect_id):\n",
    "    x1y1 = inf_pos[infect_id]\n",
    "    x2y2 = uninf_pos[uninfect_id]\n",
    "    return math.sqrt(((x2y2[0]-x1y1[0])**2) + ((x2y2[1] - x1y1[1])**2))\n",
    "\n",
    "def get_dist_multiplier(distance):\n",
    "    return distance * chu_distance_curve\n",
    "\n",
    "infected"
   ]
  },
  {
   "cell_type": "code",
   "execution_count": 3,
   "metadata": {},
   "outputs": [],
   "source": [
    "# create run function\n",
    "def one_room(input_var = air_exchange_rate):\n",
    "    #input: interventions, dimensions, \n",
    "    \n",
    "    # loop through day\n",
    "    days = 1\n",
    "    classes = 3\n",
    "    steps = 12\n",
    "    for i in range(len(days)):\n",
    "        \n",
    "        # Loop through classes in each day (3 classes)\n",
    "        for c in range(len(classes)):\n",
    "            \n",
    "            # Loop through 5 minute steps in each class\n",
    "            for s in range(len(steps)):\n",
    "                \n",
    "                ## Droplet Infection\n",
    "                # Loop through infected students\n",
    "                for i_student in infected:\n",
    "                    i_location = 0 # distance?\n",
    "                    \n",
    "                    # Loop through uninfected and calculate likelihood of infection\n",
    "                    for u_student in uninfected:\n",
    "                        distance = 0 # calculate using distance function?\n",
    "                        transmission = \n",
    "        \n",
    "        ## Aerosol Infection\n",
    "        # Loop through uninfected students\n",
    "        for u in uninfected:\n",
    "            \n",
    "            \n",
    "            # run aerosol once / infected / uninfected\n",
    "            aerosol_infect()                \n",
    "    "
   ]
  },
  {
   "cell_type": "code",
   "execution_count": null,
   "metadata": {},
   "outputs": [],
   "source": [
    "# output graphs"
   ]
  }
 ],
 "metadata": {
  "kernelspec": {
   "display_name": "Python 3",
   "language": "python",
   "name": "python3"
  },
  "language_info": {
   "codemirror_mode": {
    "name": "ipython",
    "version": 3
   },
   "file_extension": ".py",
   "mimetype": "text/x-python",
   "name": "python",
   "nbconvert_exporter": "python",
   "pygments_lexer": "ipython3",
   "version": "3.8.6"
  }
 },
 "nbformat": 4,
 "nbformat_minor": 4
}
