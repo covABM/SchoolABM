{
 "cells": [
  {
   "cell_type": "code",
   "execution_count": 1,
   "metadata": {},
   "outputs": [],
   "source": [
    "import os\n",
    "import sys\n",
    "sys.path.append('./src')\n",
    "os.chdir(os.path.dirname(os.path.dirname(sys.path[0])))"
   ]
  },
  {
   "cell_type": "code",
   "execution_count": 2,
   "metadata": {},
   "outputs": [],
   "source": [
    "from output_image import load_map_school1"
   ]
  },
  {
   "cell_type": "code",
   "execution_count": 3,
   "metadata": {},
   "outputs": [],
   "source": [
    "school1_gdf = load_map_school1(\"./layouts/schoollayout1/schoollayout1.shp\")"
   ]
  },
  {
   "cell_type": "code",
   "execution_count": 4,
   "metadata": {},
   "outputs": [],
   "source": [
    "school1_gdf.to_file('./layouts/schoollayout1/schoollayout1_processed.shp')"
   ]
  },
  {
   "cell_type": "code",
   "execution_count": 5,
   "metadata": {},
   "outputs": [
    {
     "data": {
      "text/html": [
       "<div>\n",
       "<style scoped>\n",
       "    .dataframe tbody tr th:only-of-type {\n",
       "        vertical-align: middle;\n",
       "    }\n",
       "\n",
       "    .dataframe tbody tr th {\n",
       "        vertical-align: top;\n",
       "    }\n",
       "\n",
       "    .dataframe thead th {\n",
       "        text-align: right;\n",
       "    }\n",
       "</style>\n",
       "<table border=\"1\" class=\"dataframe\">\n",
       "  <thead>\n",
       "    <tr style=\"text-align: right;\">\n",
       "      <th></th>\n",
       "      <th>Id</th>\n",
       "      <th>room_type</th>\n",
       "      <th>geometry</th>\n",
       "    </tr>\n",
       "  </thead>\n",
       "  <tbody>\n",
       "    <tr>\n",
       "      <th>0</th>\n",
       "      <td>33</td>\n",
       "      <td>None</td>\n",
       "      <td>POLYGON ((529.500 -677.500, 473.500 -677.500, ...</td>\n",
       "    </tr>\n",
       "    <tr>\n",
       "      <th>1</th>\n",
       "      <td>37</td>\n",
       "      <td>None</td>\n",
       "      <td>POLYGON ((583.500 -677.500, 532.500 -677.500, ...</td>\n",
       "    </tr>\n",
       "    <tr>\n",
       "      <th>2</th>\n",
       "      <td>49</td>\n",
       "      <td>None</td>\n",
       "      <td>POLYGON ((529.500 -679.500, 473.500 -679.500, ...</td>\n",
       "    </tr>\n",
       "    <tr>\n",
       "      <th>3</th>\n",
       "      <td>51</td>\n",
       "      <td>None</td>\n",
       "      <td>POLYGON ((583.500 -679.500, 532.500 -679.500, ...</td>\n",
       "    </tr>\n",
       "    <tr>\n",
       "      <th>4</th>\n",
       "      <td>59</td>\n",
       "      <td>None</td>\n",
       "      <td>POLYGON ((689.500 -680.500, 606.500 -680.500, ...</td>\n",
       "    </tr>\n",
       "    <tr>\n",
       "      <th>...</th>\n",
       "      <td>...</td>\n",
       "      <td>...</td>\n",
       "      <td>...</td>\n",
       "    </tr>\n",
       "    <tr>\n",
       "      <th>347</th>\n",
       "      <td>10647</td>\n",
       "      <td>None</td>\n",
       "      <td>POLYGON ((407.500 -1516.500, 398.500 -1516.500...</td>\n",
       "    </tr>\n",
       "    <tr>\n",
       "      <th>348</th>\n",
       "      <td>10654</td>\n",
       "      <td>None</td>\n",
       "      <td>POLYGON ((518.500 -1516.500, 430.500 -1516.500...</td>\n",
       "    </tr>\n",
       "    <tr>\n",
       "      <th>349</th>\n",
       "      <td>10664</td>\n",
       "      <td>None</td>\n",
       "      <td>POLYGON ((647.500 -1516.500, 559.500 -1516.500...</td>\n",
       "    </tr>\n",
       "    <tr>\n",
       "      <th>350</th>\n",
       "      <td>90000</td>\n",
       "      <td>recess_yard</td>\n",
       "      <td>POLYGON ((750.000 -1000.000, 750.000 -710.000,...</td>\n",
       "    </tr>\n",
       "    <tr>\n",
       "      <th>351</th>\n",
       "      <td>90001</td>\n",
       "      <td>recess_yard</td>\n",
       "      <td>POLYGON ((430.000 -1400.000, 430.000 -1150.000...</td>\n",
       "    </tr>\n",
       "  </tbody>\n",
       "</table>\n",
       "<p>352 rows × 3 columns</p>\n",
       "</div>"
      ],
      "text/plain": [
       "        Id    room_type                                           geometry\n",
       "0       33         None  POLYGON ((529.500 -677.500, 473.500 -677.500, ...\n",
       "1       37         None  POLYGON ((583.500 -677.500, 532.500 -677.500, ...\n",
       "2       49         None  POLYGON ((529.500 -679.500, 473.500 -679.500, ...\n",
       "3       51         None  POLYGON ((583.500 -679.500, 532.500 -679.500, ...\n",
       "4       59         None  POLYGON ((689.500 -680.500, 606.500 -680.500, ...\n",
       "..     ...          ...                                                ...\n",
       "347  10647         None  POLYGON ((407.500 -1516.500, 398.500 -1516.500...\n",
       "348  10654         None  POLYGON ((518.500 -1516.500, 430.500 -1516.500...\n",
       "349  10664         None  POLYGON ((647.500 -1516.500, 559.500 -1516.500...\n",
       "350  90000  recess_yard  POLYGON ((750.000 -1000.000, 750.000 -710.000,...\n",
       "351  90001  recess_yard  POLYGON ((430.000 -1400.000, 430.000 -1150.000...\n",
       "\n",
       "[352 rows x 3 columns]"
      ]
     },
     "execution_count": 5,
     "metadata": {},
     "output_type": "execute_result"
    }
   ],
   "source": [
    "school1_gdf"
   ]
  },
  {
   "cell_type": "code",
   "execution_count": null,
   "metadata": {},
   "outputs": [],
   "source": []
  }
 ],
 "metadata": {
  "kernelspec": {
   "display_name": "Python 3",
   "language": "python",
   "name": "python3"
  },
  "language_info": {
   "codemirror_mode": {
    "name": "ipython",
    "version": 3
   },
   "file_extension": ".py",
   "mimetype": "text/x-python",
   "name": "python",
   "nbconvert_exporter": "python",
   "pygments_lexer": "ipython3",
   "version": "3.7.6"
  }
 },
 "nbformat": 4,
 "nbformat_minor": 4
}
