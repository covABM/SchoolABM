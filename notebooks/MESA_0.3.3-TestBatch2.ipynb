{
 "cells": [
  {
   "cell_type": "markdown",
   "metadata": {},
   "source": [
    "##### Setup\n",
    "Error: the datatype for boolean values in google sheet seems to be either unretrievable or (if changed to 1 or 0) converted to float which would give an error in model run, if this can be fix"
   ]
  },
  {
   "cell_type": "code",
   "execution_count": 7,
   "metadata": {},
   "outputs": [],
   "source": [
    "import sys\n",
    "sys.path.append('src')\n",
    "\n",
    "\n",
    "\n",
    "#Data Analysis \n",
    "import geopandas as gpd\n",
    "import pandas as pd\n",
    "import numpy as np\n",
    "\n",
    "\n",
    "\n",
    "#Plot\n",
    "import matplotlib.pyplot as plt\n",
    "import gc\n",
    "\n",
    "\n",
    "#multiprocessing\n",
    "import multiprocessing\n",
    "import brun\n",
    "\n",
    "\n",
    "#model\n",
    "from school_model import School\n",
    "\n",
    "#spreadsheets\n",
    "import spreadsheets"
   ]
  },
  {
   "cell_type": "markdown",
   "metadata": {},
   "source": [
    "# Parameter Setup\n",
    "Here using a test trial small schedule with 5 steps of class per day\n",
    "<br>\n",
    "Run for 15 days"
   ]
  },
  {
   "cell_type": "code",
   "execution_count": 3,
   "metadata": {},
   "outputs": [],
   "source": [
    "map_path = \"../layouts/schoollayout1/schoollayout1.shp\"\n",
    "schedule_path = \"small_schedule.csv\" #small schedule has only 5 steps per day for testing purposes\n",
    "#full day schedule should be \"day_schedule.csv\" \n",
    "SHEET_URL = 'https://docs.google.com/spreadsheets/d/1Quyyey5B_kdQK1_OU0OkIDGZE27tuUfjZ6hCsV99-sM'\n",
    "credentials = './src/credentials.json'\n",
    "\n",
    "\n",
    "# two types of parameter setups available for batchrunner\n",
    "# pre-setup for fixed/variable parameter dictionaries (consistant with mesa batchrunner)\n",
    "######################\n",
    "grade_N = 350\n",
    "KG_N = 50\n",
    "preschool_N = 50\n",
    "special_education_N = 10\n",
    "faculty_N = 40\n",
    "seat_dist = 12\n",
    "mask_prob = 0.516\n",
    "days = 15\n",
    "max_steps = 15*5\n",
    "iterations = 1\n",
    "####################"
   ]
  },
  {
   "cell_type": "code",
   "execution_count": 57,
   "metadata": {},
   "outputs": [],
   "source": [
    "# fixed parameters are model input parameters that are static for all batch running jobs\n",
    "fixed_parameters = {}\n",
    "\n",
    "\n",
    "fixed_parameters['grade_N'] = grade_N\n",
    "fixed_parameters['KG_N'] = KG_N\n",
    "fixed_parameters['preschool_N'] = preschool_N\n",
    "fixed_parameters['special_education_N'] = special_education_N\n",
    "fixed_parameters['faculty_N'] = faculty_N\n",
    "fixed_parameters['seat_dist'] = 12\n",
    "fixed_parameters['init_patient'] = 3\n",
    "fixed_parameters['mask_prob'] = 0.25\n",
    "\n",
    "# same logic as fixed parameters, only these will be batch ran for all combinations \n",
    "variable_parameters = {}\n",
    "fvariable_parameters['attend_rate'] = [0.25, 0.5, 0.75, 1]\n",
    "variable_parameters['inclass_lunch'] = [True, False]\n",
    "#variable_parameters['mask_prob'] = [0, 0.25, 0.5, 0.75, 1]"
   ]
  },
  {
   "cell_type": "code",
   "execution_count": 1,
   "metadata": {},
   "outputs": [
    {
     "ename": "NameError",
     "evalue": "name 'spreadsheets' is not defined",
     "output_type": "error",
     "traceback": [
      "\u001b[1;31m---------------------------------------------------------------------------\u001b[0m",
      "\u001b[1;31mNameError\u001b[0m                                 Traceback (most recent call last)",
      "\u001b[1;32m<ipython-input-1-617e28fdacd2>\u001b[0m in \u001b[0;36m<module>\u001b[1;34m\u001b[0m\n\u001b[1;32m----> 1\u001b[1;33m \u001b[0mparam_df\u001b[0m \u001b[1;33m=\u001b[0m \u001b[0mspreadsheets\u001b[0m\u001b[1;33m.\u001b[0m\u001b[0mreturn_params_df\u001b[0m\u001b[1;33m(\u001b[0m\u001b[0msheet_url\u001b[0m\u001b[1;33m=\u001b[0m\u001b[0mSHEET_URL\u001b[0m\u001b[1;33m,\u001b[0m \u001b[0mcredentials\u001b[0m\u001b[1;33m=\u001b[0m\u001b[0mcredentials\u001b[0m\u001b[1;33m)\u001b[0m\u001b[1;33m\u001b[0m\u001b[1;33m\u001b[0m\u001b[0m\n\u001b[0m",
      "\u001b[1;31mNameError\u001b[0m: name 'spreadsheets' is not defined"
     ]
    }
   ],
   "source": [
    "# dataframe parameter setup that can port with google sheet\n",
    "param_df = spreadsheets.return_params_df(sheet_url=SHEET_URL, credentials=credentials)"
   ]
  },
  {
   "cell_type": "markdown",
   "metadata": {},
   "source": [
    "# Multiprocessing Run"
   ]
  },
  {
   "cell_type": "code",
   "execution_count": 6,
   "metadata": {},
   "outputs": [
    {
     "name": "stdout",
     "output_type": "stream",
     "text": [
      "Your system has 8 available processors.\n"
     ]
    }
   ],
   "source": [
    "if __name__ ==  '__main__': \n",
    "    # for more on multiprocessing, check src/brun \n",
    "    batchrunner = brun.BatchrunnerMP(model=School, \n",
    "                                     map_path=map_path,\n",
    "                                     schedule_path=schedule_path,\n",
    "                                     max_steps=max_steps, \n",
    "                                     iterations=iterations, \n",
    "                                     fixed_parameters=fixed_parameters, \n",
    "                                     variable_parameters=variable_parameters)\n",
    "    results = batchrunner.run_all()"
   ]
  },
  {
   "cell_type": "code",
   "execution_count": 7,
   "metadata": {},
   "outputs": [
    {
     "data": {
      "text/plain": [
       "8"
      ]
     },
     "execution_count": 7,
     "metadata": {},
     "output_type": "execute_result"
    }
   ],
   "source": [
    "len(results)"
   ]
  },
  {
   "cell_type": "code",
   "execution_count": null,
   "metadata": {},
   "outputs": [],
   "source": []
  }
 ],
 "metadata": {
  "kernelspec": {
   "display_name": "Python 3",
   "language": "python",
   "name": "python3"
  },
  "language_info": {
   "codemirror_mode": {
    "name": "ipython",
    "version": 3
   },
   "file_extension": ".py",
   "mimetype": "text/x-python",
   "name": "python",
   "nbconvert_exporter": "python",
   "pygments_lexer": "ipython3",
   "version": "3.7.6"
  },
  "toc": {
   "base_numbering": 1,
   "nav_menu": {},
   "number_sections": false,
   "sideBar": false,
   "skip_h1_title": false,
   "title_cell": "Table of Contents",
   "title_sidebar": "Contents",
   "toc_cell": false,
   "toc_position": {},
   "toc_section_display": false,
   "toc_window_display": false
  }
 },
 "nbformat": 4,
 "nbformat_minor": 4
}
