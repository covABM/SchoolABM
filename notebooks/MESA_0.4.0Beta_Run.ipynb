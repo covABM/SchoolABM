{
 "cells": [
  {
   "cell_type": "markdown",
   "metadata": {},
   "source": [
    "##### Setup\n",
    "Error: the datatype for boolean values in google sheet seems to be either unretrievable or (if changed to 1 or 0) converted to float which would give an error in model run, if this can be fix"
   ]
  },
  {
   "cell_type": "code",
   "execution_count": 1,
   "metadata": {},
   "outputs": [],
   "source": [
    "import sys\n",
    "import os\n",
    "sys.path.append('./src')\n",
    "os.chdir(os.path.dirname(sys.path[0]))\n",
    "\n",
    "\n",
    "\n",
    "# data Analysis \n",
    "import geopandas as gpd\n",
    "import pandas as pd\n",
    "import numpy as np\n",
    "\n",
    "\n",
    "\n",
    "# plot\n",
    "import matplotlib.pyplot as plt\n",
    "import gc\n",
    "\n",
    "# output\n",
    "from output_image import write_output, analyze_model_result, output_to_csv\n",
    "\n",
    "\n",
    "# multiprocessing\n",
    "import multiprocessing\n",
    "import brun\n",
    "\n",
    "\n",
    "# model\n",
    "from school_model import School\n",
    "\n",
    "# spreadsheets\n",
    "# import spreadsheets\n",
    "\n",
    "#config\n",
    "import configparser\n",
    "import warnings\n",
    "warnings.filterwarnings(\"ignore\")"
   ]
  },
  {
   "cell_type": "markdown",
   "metadata": {},
   "source": [
    "# Parameter Setup\n",
    "Here using a test trial small schedule with 5 steps of class per day\n",
    "<br>\n",
    "Run for 15 days"
   ]
  },
  {
   "cell_type": "code",
   "execution_count": 2,
   "metadata": {},
   "outputs": [],
   "source": [
    "map_path = \"../layouts/schoollayout1/schoollayout1.shp\"\n",
    "schedule_path = \"../schedule_data/day_schedule.csv\" #small schedule has only 5 steps per day for testing purposes\n",
    "#full day schedule should be \"day_schedule.csv\" \n",
    "schedule_steps = 90 # full day_schedule steps should be 90\n",
    "\n",
    "\n",
    "# if you wish to use google sheet parameter input, you'll have to follow instructions for getting credentials of the sheet api\n",
    "# follow the first two steps in:\n",
    "# https://developers.google.com/sheets/api/quickstart/python\n",
    "# and save your credentials in the src folder as listed below\n",
    "SHEET_URL = 'https://docs.google.com/spreadsheets/d/1Quyyey5B_kdQK1_OU0OkIDGZE27tuUfjZ6hCsV99-sM'\n",
    "credentials = '../src/credentials.json'\n",
    "\n",
    "\n",
    "# two types of parameter setups available for batchrunner\n",
    "# pre-setup for fixed/variable parameter dictionaries (consistant with mesa batchrunner)\n",
    "######################\n",
    "grade_N = 350\n",
    "KG_N = 50\n",
    "preschool_N = 50\n",
    "special_education_N = 10\n",
    "faculty_N = 40\n",
    "seat_dist = 12\n",
    "mask_prob = 0.516\n",
    "days = 15\n",
    "max_steps = days*schedule_steps\n",
    "iterations = 1\n",
    "####################"
   ]
  },
  {
   "cell_type": "code",
   "execution_count": 3,
   "metadata": {},
   "outputs": [],
   "source": [
    "# fixed parameters are model input parameters that are static for all batch running jobs\n",
    "fixed_parameters = {}\n",
    "\n",
    "\n",
    "fixed_parameters['grade_N'] = grade_N\n",
    "fixed_parameters['KG_N'] = KG_N\n",
    "fixed_parameters['preschool_N'] = preschool_N\n",
    "fixed_parameters['special_education_N'] = special_education_N\n",
    "fixed_parameters['faculty_N'] = faculty_N\n",
    "fixed_parameters['seat_dist'] = 12\n",
    "fixed_parameters['init_patient'] = 3\n",
    "#fixed_parameters['mask_prob'] = 0.5\n",
    "\n",
    "# same logic as fixed parameters, only these will be batch ran for all combinations \n",
    "variable_parameters = {}\n",
    "variable_parameters['attend_rate'] = [0.25, 0.5, 0.75, 1]\n",
    "variable_parameters['inclass_lunch'] = [True, False]\n",
    "variable_parameters['mask_prob'] = [0, 0.25, 0.5, 0.75, 1]"
   ]
  },
  {
   "cell_type": "code",
   "execution_count": 4,
   "metadata": {},
   "outputs": [],
   "source": [
    "# dataframe parameter setup that can port with google sheet\n",
    "# TODO: currently the sheet script cannot retrieve boolean values so this input method is not fully functioning\n",
    "# namely inclass_lunch\n",
    "# should be an easy fix\n",
    "\n",
    "#param_df = spreadsheets.return_params_df(sheet_url=SHEET_URL, credentials=credentials)"
   ]
  },
  {
   "cell_type": "markdown",
   "metadata": {},
   "source": [
    "# Single Run"
   ]
  },
  {
   "cell_type": "code",
   "execution_count": 5,
   "metadata": {},
   "outputs": [],
   "source": [
    "school = School(map_path, schedule_path, grade_N, KG_N, preschool_N, special_education_N, \n",
    "                 faculty_N, seat_dist, init_patient=3, attend_rate=1, mask_prob=0.5, inclass_lunch=False, username=\"jleiucsd\")\n",
    "\n",
    "\n",
    "while school.running and school.schedule.steps < 1:\n",
    "    school.step()\n",
    "\n",
    "params = \"{'test': 0}\" \n",
    "agent_df = school.datacollector.get_agent_vars_dataframe()\n",
    "model_df = school.datacollector.get_model_vars_dataframe()\n",
    "\n"
   ]
  },
  {
   "cell_type": "code",
   "execution_count": 6,
   "metadata": {},
   "outputs": [
    {
     "data": {
      "text/html": [
       "<div>\n",
       "<style scoped>\n",
       "    .dataframe tbody tr th:only-of-type {\n",
       "        vertical-align: middle;\n",
       "    }\n",
       "\n",
       "    .dataframe tbody tr th {\n",
       "        vertical-align: top;\n",
       "    }\n",
       "\n",
       "    .dataframe thead th {\n",
       "        text-align: right;\n",
       "    }\n",
       "</style>\n",
       "<table border=\"1\" class=\"dataframe\">\n",
       "  <thead>\n",
       "    <tr style=\"text-align: right;\">\n",
       "      <th></th>\n",
       "      <th></th>\n",
       "      <th>unique_id</th>\n",
       "      <th>health_status</th>\n",
       "      <th>symptoms</th>\n",
       "      <th>x</th>\n",
       "      <th>y</th>\n",
       "      <th>viral_load</th>\n",
       "    </tr>\n",
       "    <tr>\n",
       "      <th>Step</th>\n",
       "      <th>AgentID</th>\n",
       "      <th></th>\n",
       "      <th></th>\n",
       "      <th></th>\n",
       "      <th></th>\n",
       "      <th></th>\n",
       "      <th></th>\n",
       "    </tr>\n",
       "  </thead>\n",
       "  <tbody>\n",
       "    <tr>\n",
       "      <th rowspan=\"5\" valign=\"top\">0</th>\n",
       "      <th>S0</th>\n",
       "      <td>S0</td>\n",
       "      <td>healthy</td>\n",
       "      <td>False</td>\n",
       "      <td>1423.583987</td>\n",
       "      <td>-1690.866889</td>\n",
       "      <td>NaN</td>\n",
       "    </tr>\n",
       "    <tr>\n",
       "      <th>S1</th>\n",
       "      <td>S1</td>\n",
       "      <td>healthy</td>\n",
       "      <td>False</td>\n",
       "      <td>1423.583987</td>\n",
       "      <td>-1678.866889</td>\n",
       "      <td>NaN</td>\n",
       "    </tr>\n",
       "    <tr>\n",
       "      <th>S2</th>\n",
       "      <td>S2</td>\n",
       "      <td>healthy</td>\n",
       "      <td>False</td>\n",
       "      <td>1423.583987</td>\n",
       "      <td>-1666.866889</td>\n",
       "      <td>NaN</td>\n",
       "    </tr>\n",
       "    <tr>\n",
       "      <th>S3</th>\n",
       "      <td>S3</td>\n",
       "      <td>healthy</td>\n",
       "      <td>False</td>\n",
       "      <td>1423.583987</td>\n",
       "      <td>-1654.866889</td>\n",
       "      <td>NaN</td>\n",
       "    </tr>\n",
       "    <tr>\n",
       "      <th>S4</th>\n",
       "      <td>S4</td>\n",
       "      <td>healthy</td>\n",
       "      <td>False</td>\n",
       "      <td>1423.583987</td>\n",
       "      <td>-1642.866889</td>\n",
       "      <td>NaN</td>\n",
       "    </tr>\n",
       "    <tr>\n",
       "      <th>...</th>\n",
       "      <th>...</th>\n",
       "      <td>...</td>\n",
       "      <td>...</td>\n",
       "      <td>...</td>\n",
       "      <td>...</td>\n",
       "      <td>...</td>\n",
       "      <td>...</td>\n",
       "    </tr>\n",
       "    <tr>\n",
       "      <th rowspan=\"5\" valign=\"top\">89</th>\n",
       "      <th>10647</th>\n",
       "      <td>10647</td>\n",
       "      <td>None</td>\n",
       "      <td>None</td>\n",
       "      <td>NaN</td>\n",
       "      <td>NaN</td>\n",
       "      <td>0.0</td>\n",
       "    </tr>\n",
       "    <tr>\n",
       "      <th>10654</th>\n",
       "      <td>10654</td>\n",
       "      <td>None</td>\n",
       "      <td>None</td>\n",
       "      <td>NaN</td>\n",
       "      <td>NaN</td>\n",
       "      <td>0.0</td>\n",
       "    </tr>\n",
       "    <tr>\n",
       "      <th>10664</th>\n",
       "      <td>10664</td>\n",
       "      <td>None</td>\n",
       "      <td>None</td>\n",
       "      <td>NaN</td>\n",
       "      <td>NaN</td>\n",
       "      <td>0.0</td>\n",
       "    </tr>\n",
       "    <tr>\n",
       "      <th>90000</th>\n",
       "      <td>90000</td>\n",
       "      <td>None</td>\n",
       "      <td>None</td>\n",
       "      <td>NaN</td>\n",
       "      <td>NaN</td>\n",
       "      <td>0.0</td>\n",
       "    </tr>\n",
       "    <tr>\n",
       "      <th>90001</th>\n",
       "      <td>90001</td>\n",
       "      <td>None</td>\n",
       "      <td>None</td>\n",
       "      <td>NaN</td>\n",
       "      <td>NaN</td>\n",
       "      <td>0.0</td>\n",
       "    </tr>\n",
       "  </tbody>\n",
       "</table>\n",
       "<p>76680 rows × 6 columns</p>\n",
       "</div>"
      ],
      "text/plain": [
       "             unique_id health_status symptoms            x            y  \\\n",
       "Step AgentID                                                              \n",
       "0    S0             S0       healthy    False  1423.583987 -1690.866889   \n",
       "     S1             S1       healthy    False  1423.583987 -1678.866889   \n",
       "     S2             S2       healthy    False  1423.583987 -1666.866889   \n",
       "     S3             S3       healthy    False  1423.583987 -1654.866889   \n",
       "     S4             S4       healthy    False  1423.583987 -1642.866889   \n",
       "...                ...           ...      ...          ...          ...   \n",
       "89   10647       10647          None     None          NaN          NaN   \n",
       "     10654       10654          None     None          NaN          NaN   \n",
       "     10664       10664          None     None          NaN          NaN   \n",
       "     90000       90000          None     None          NaN          NaN   \n",
       "     90001       90001          None     None          NaN          NaN   \n",
       "\n",
       "              viral_load  \n",
       "Step AgentID              \n",
       "0    S0              NaN  \n",
       "     S1              NaN  \n",
       "     S2              NaN  \n",
       "     S3              NaN  \n",
       "     S4              NaN  \n",
       "...                  ...  \n",
       "89   10647           0.0  \n",
       "     10654           0.0  \n",
       "     10664           0.0  \n",
       "     90000           0.0  \n",
       "     90001           0.0  \n",
       "\n",
       "[76680 rows x 6 columns]"
      ]
     },
     "execution_count": 6,
     "metadata": {},
     "output_type": "execute_result"
    }
   ],
   "source": [
    "agent_df"
   ]
  },
  {
   "cell_type": "markdown",
   "metadata": {},
   "source": [
    "# Multiprocessing Run"
   ]
  },
  {
   "cell_type": "code",
   "execution_count": 4,
   "metadata": {},
   "outputs": [
    {
     "name": "stdout",
     "output_type": "stream",
     "text": [
      "Your system has 8 available processors.\n"
     ]
    }
   ],
   "source": [
    "if __name__ ==  '__main__': \n",
    "    # for more on multiprocessing, check src/brun \n",
    "    batchrunner = brun.BatchrunnerMP(model=School, \n",
    "                                     map_path=map_path,\n",
    "                                     schedule_path=schedule_path,\n",
    "                                     max_steps=max_steps, \n",
    "                                     iterations=iterations, \n",
    "                                     fixed_parameters=fixed_parameters, \n",
    "                                     variable_parameters=variable_parameters)\n",
    "    results = batchrunner.run_all()"
   ]
  },
  {
   "cell_type": "code",
   "execution_count": 10,
   "metadata": {},
   "outputs": [],
   "source": [
    "for params, dfs in results.items():\n",
    "    #write_output(params, dfs, map_path)\n",
    "    output_to_csv(params, dfs)"
   ]
  },
  {
   "cell_type": "code",
   "execution_count": null,
   "metadata": {},
   "outputs": [],
   "source": []
  },
  {
   "cell_type": "markdown",
   "metadata": {},
   "source": [
    "# Simulation Result"
   ]
  },
  {
   "cell_type": "code",
   "execution_count": 2,
   "metadata": {},
   "outputs": [],
   "source": [
    "model_out_df = pd.read_csv(\"/oasis/scratch/comet/jleiucsd/temp_project/output_seat_dist_12_init_patient_3_attend_rate_1_inclass_lunch_True_mask_prob_0.75_iteration_0/model_val.csv\")"
   ]
  },
  {
   "cell_type": "code",
   "execution_count": 3,
   "metadata": {},
   "outputs": [
    {
     "data": {
      "image/png": "[encoded data removed]",
      "text/plain": [
       "<Figure size 1080x1080 with 1 Axes>"
      ]
     },
     "metadata": {
      "needs_background": "light"
     },
     "output_type": "display_data"
    }
   ],
   "source": [
    "analyze_model_result(model_out_df=model_out_df) "
   ]
  },
  {
   "cell_type": "code",
   "execution_count": null,
   "metadata": {},
   "outputs": [],
   "source": []
  }
 ],
 "metadata": {
  "kernelspec": {
   "display_name": "Python 3",
   "language": "python",
   "name": "python3"
  },
  "language_info": {
   "codemirror_mode": {
    "name": "ipython",
    "version": 3
   },
   "file_extension": ".py",
   "mimetype": "text/x-python",
   "name": "python",
   "nbconvert_exporter": "python",
   "pygments_lexer": "ipython3",
   "version": "3.7.6"
  },
  "toc": {
   "base_numbering": 1,
   "nav_menu": {},
   "number_sections": false,
   "sideBar": false,
   "skip_h1_title": false,
   "title_cell": "Table of Contents",
   "title_sidebar": "Contents",
   "toc_cell": false,
   "toc_position": {},
   "toc_section_display": false,
   "toc_window_display": false
  }
 },
 "nbformat": 4,
 "nbformat_minor": 4
}
