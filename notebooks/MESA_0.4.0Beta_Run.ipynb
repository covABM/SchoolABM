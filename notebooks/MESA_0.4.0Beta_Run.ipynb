{
 "cells": [
  {
   "cell_type": "markdown",
   "metadata": {},
   "source": [
    "##### Setup\n",
    "Error: the datatype for boolean values in google sheet seems to be either unretrievable or (if changed to 1 or 0) converted to float which would give an error in model run, if this can be fix"
   ]
  },
  {
   "cell_type": "code",
   "execution_count": 8,
   "metadata": {},
   "outputs": [],
   "source": [
    "import sys\n",
    "sys.path.append('../src')\n",
    "\n",
    "\n",
    "\n",
    "# data Analysis \n",
    "import geopandas as gpd\n",
    "import pandas as pd\n",
    "import numpy as np\n",
    "\n",
    "\n",
    "\n",
    "# plot\n",
    "import matplotlib.pyplot as plt\n",
    "import gc\n",
    "\n",
    "# output\n",
    "from output_image import write_output\n",
    "\n",
    "\n",
    "# multiprocessing\n",
    "import multiprocessing\n",
    "import brun\n",
    "\n",
    "\n",
    "# model\n",
    "from school_model import School\n",
    "\n",
    "# spreadsheets\n",
    "# import spreadsheets\n",
    "\n",
    "#config\n",
    "import configparser\n",
    "import warnings\n",
    "warnings.filterwarnings(\"ignore\")"
   ]
  },
  {
   "cell_type": "markdown",
   "metadata": {},
   "source": [
    "# Parameter Setup\n",
    "Here using a test trial small schedule with 5 steps of class per day\n",
    "<br>\n",
    "Run for 15 days"
   ]
  },
  {
   "cell_type": "code",
   "execution_count": 13,
   "metadata": {},
   "outputs": [],
   "source": [
    "school_params = '../config/schoolparams.ini'\n",
    "parser = configparser.ConfigParser()\n",
    "parser.read(school_params)\n",
    "\n",
    "map_path = parser['SHAPEFILE']['path']\n",
    "schedule_path = parser['SCHEDULE']['path'] #small schedule has only 5 steps per day for testing purposes\n",
    "#full day schedule should be \"day_schedule.csv\" \n",
    "schedule_steps = int(parser['TIME']['schedule_steps']) # full day_schedule steps should be 90\n",
    "\n",
    "\n",
    "# if you wish to use google sheet parameter input, you'll have to follow instructions for getting credentials of the sheet api\n",
    "# follow the first two steps in:\n",
    "# https://developers.google.com/sheets/api/quickstart/python\n",
    "# and save your credentials in the src folder as listed below\n",
    "\n",
    "# SHEET_URL = 'https://docs.google.com/spreadsheets/d/1Quyyey5B_kdQK1_OU0OkIDGZE27tuUfjZ6hCsV99-sM'\n",
    "# credentials = '../src/credentials.json'\n",
    "\n",
    "\n",
    "####Pulling in parameters from config files####\n",
    "population = parser['SCHOOL_POPULATION']\n",
    "grade_N = int(population['grade_N'])\n",
    "KG_N = int(population['KG_N'])\n",
    "preschool_N = int(population['preschool_N'])\n",
    "special_education_N = int(population['special_education_N'])\n",
    "faculty_N = int(population['faculty_N'])\n",
    "\n",
    "mask_prob = float(population['mask_prob'])\n",
    "init_patient = int(population['init_patient'])\n",
    "attend_rate = int(population['population_attending'])\n",
    "\n",
    "days = int(parser['TIME']['days'])\n",
    "max_steps = days*schedule_steps\n",
    "iterations = 1\n",
    "\n",
    "#This in the process of becoming a user adjustable parameter, \n",
    "#Hence, the alterative file path. \n",
    "\n",
    "activity_params = '../config/activities.ini'\n",
    "parser_activity = configparser.ConfigParser()\n",
    "parser_activity.read(activity_params)\n",
    "seat_dist = int(parser_activity['CLASSROOM_REGULAR']['seat_dist'])\n"
   ]
  },
  {
   "cell_type": "code",
   "execution_count": 14,
   "metadata": {},
   "outputs": [],
   "source": [
    "# fixed parameters are model input parameters that are static for all batch running jobs\n",
    "fixed_parameters = {}\n",
    "\n",
    "\n",
    "fixed_parameters['grade_N'] = grade_N\n",
    "fixed_parameters['KG_N'] = KG_N\n",
    "fixed_parameters['preschool_N'] = preschool_N\n",
    "fixed_parameters['special_education_N'] = special_education_N\n",
    "fixed_parameters['faculty_N'] = faculty_N\n",
    "fixed_parameters['seat_dist'] = seat_dist\n",
    "fixed_parameters['init_patient'] = population['init_patient']\n",
    "\n",
    "# same logic as fixed parameters, only these will be batch ran for all combinations \n",
    "variable_parameters = {}\n",
    "variable_parameters['attend_rate'] = [1]\n",
    "variable_parameters['inclass_lunch'] = [True]\n",
    "variable_parameters['mask_prob'] = [0, 0.25]"
   ]
  },
  {
   "cell_type": "code",
   "execution_count": 15,
   "metadata": {},
   "outputs": [],
   "source": [
    "# dataframe parameter setup that can port with google sheet\n",
    "# TODO: currently the sheet script cannot retrieve boolean values so this input method is not fully functioning\n",
    "# namely inclass_lunch\n",
    "# should be an easy fix\n",
    "\n",
    "# param_df = spreadsheets.return_params_df(sheet_url=SHEET_URL, credentials=credentials)"
   ]
  },
  {
   "cell_type": "markdown",
   "metadata": {},
   "source": [
    "# Single Run"
   ]
  },
  {
   "cell_type": "code",
   "execution_count": null,
   "metadata": {},
   "outputs": [
    {
     "name": "stdout",
     "output_type": "stream",
     "text": [
      "1\n"
     ]
    }
   ],
   "source": [
    "school = School(map_path, schedule_path, grade_N, KG_N, preschool_N, special_education_N, \n",
    "                 faculty_N, seat_dist, init_patient=init_patient, attend_rate=attend_rate, mask_prob=mask_prob, inclass_lunch=True, username=\"jleiucsd\")\n",
    "\n",
    "\n",
    "while school.running and school.schedule.steps < max_steps:\n",
    "    school.step()\n",
    "\n",
    "params = \"{'test': 0}\" \n",
    "agent_df = school.datacollector.get_agent_vars_dataframe()\n",
    "model_df = school.datacollector.get_model_vars_dataframe()"
   ]
  },
  {
   "cell_type": "markdown",
   "metadata": {},
   "source": [
    "# Multiprocessing Run"
   ]
  },
  {
   "cell_type": "code",
   "execution_count": 17,
   "metadata": {},
   "outputs": [
    {
     "name": "stdout",
     "output_type": "stream",
     "text": [
      "Your system has 4 available processors.\n"
     ]
    },
    {
     "ename": "TypeError",
     "evalue": "'<=' not supported between instances of 'int' and 'str'",
     "output_type": "error",
     "traceback": [
      "\u001b[0;31m---------------------------------------------------------------------------\u001b[0m",
      "\u001b[0;31mRemoteTraceback\u001b[0m                           Traceback (most recent call last)",
      "\u001b[0;31mRemoteTraceback\u001b[0m: \n\"\"\"\nTraceback (most recent call last):\n  File \"//miniconda3/envs/geospatial/lib/python3.7/multiprocessing/pool.py\", line 121, in worker\n    result = (True, func(*args, **kwds))\n  File \"../src/brun.py\", line 69, in run_wrapper\n    cur_model.step()\n  File \"../src/school_model.py\", line 857, in step\n    self.add_N_patient(self.init_patient)\n  File \"../src/school_model.py\", line 777, in add_N_patient\n    patients = random.sample([a for a in self.schedule.agents if isinstance(a, Student)], N)\n  File \"//miniconda3/envs/geospatial/lib/python3.7/random.py\", line 320, in sample\n    if not 0 <= k <= n:\nTypeError: '<=' not supported between instances of 'int' and 'str'\n\"\"\"",
      "\nThe above exception was the direct cause of the following exception:\n",
      "\u001b[0;31mTypeError\u001b[0m                                 Traceback (most recent call last)",
      "\u001b[0;32m<ipython-input-17-9d3bd6dadabf>\u001b[0m in \u001b[0;36m<module>\u001b[0;34m\u001b[0m\n\u001b[1;32m      8\u001b[0m                                      \u001b[0mfixed_parameters\u001b[0m\u001b[0;34m=\u001b[0m\u001b[0mfixed_parameters\u001b[0m\u001b[0;34m,\u001b[0m\u001b[0;34m\u001b[0m\u001b[0;34m\u001b[0m\u001b[0m\n\u001b[1;32m      9\u001b[0m                                      variable_parameters=variable_parameters)\n\u001b[0;32m---> 10\u001b[0;31m     \u001b[0mresults\u001b[0m \u001b[0;34m=\u001b[0m \u001b[0mbatchrunner\u001b[0m\u001b[0;34m.\u001b[0m\u001b[0mrun_all\u001b[0m\u001b[0;34m(\u001b[0m\u001b[0;34m)\u001b[0m\u001b[0;34m\u001b[0m\u001b[0;34m\u001b[0m\u001b[0m\n\u001b[0m",
      "\u001b[0;32m~/SchoolABM/src/brun.py\u001b[0m in \u001b[0;36mrun_all\u001b[0;34m(self)\u001b[0m\n\u001b[1;32m     46\u001b[0m         \u001b[0mresults\u001b[0m \u001b[0;34m=\u001b[0m \u001b[0;34m{\u001b[0m\u001b[0;34m}\u001b[0m\u001b[0;34m\u001b[0m\u001b[0;34m\u001b[0m\u001b[0m\n\u001b[1;32m     47\u001b[0m         \u001b[0;32mif\u001b[0m \u001b[0mself\u001b[0m\u001b[0;34m.\u001b[0m\u001b[0mprocesses\u001b[0m \u001b[0;34m>\u001b[0m \u001b[0;36m1\u001b[0m\u001b[0;34m:\u001b[0m\u001b[0;34m\u001b[0m\u001b[0;34m\u001b[0m\u001b[0m\n\u001b[0;32m---> 48\u001b[0;31m             \u001b[0;32mfor\u001b[0m \u001b[0mparams\u001b[0m\u001b[0;34m,\u001b[0m \u001b[0mmodel_data\u001b[0m \u001b[0;32min\u001b[0m \u001b[0mpool\u001b[0m\u001b[0;34m.\u001b[0m\u001b[0mimap_unordered\u001b[0m\u001b[0;34m(\u001b[0m\u001b[0mself\u001b[0m\u001b[0;34m.\u001b[0m\u001b[0mrun_wrapper\u001b[0m\u001b[0;34m,\u001b[0m \u001b[0mrun_iter_args\u001b[0m\u001b[0;34m)\u001b[0m\u001b[0;34m:\u001b[0m\u001b[0;34m\u001b[0m\u001b[0;34m\u001b[0m\u001b[0m\n\u001b[0m\u001b[1;32m     49\u001b[0m                 \u001b[0mresults\u001b[0m\u001b[0;34m[\u001b[0m\u001b[0mstr\u001b[0m\u001b[0;34m(\u001b[0m\u001b[0mparams\u001b[0m\u001b[0;34m)\u001b[0m\u001b[0;34m]\u001b[0m \u001b[0;34m=\u001b[0m \u001b[0mmodel_data\u001b[0m\u001b[0;34m\u001b[0m\u001b[0;34m\u001b[0m\u001b[0m\n\u001b[1;32m     50\u001b[0m \u001b[0;34m\u001b[0m\u001b[0m\n",
      "\u001b[0;32m//miniconda3/envs/geospatial/lib/python3.7/multiprocessing/pool.py\u001b[0m in \u001b[0;36mnext\u001b[0;34m(self, timeout)\u001b[0m\n\u001b[1;32m    746\u001b[0m         \u001b[0;32mif\u001b[0m \u001b[0msuccess\u001b[0m\u001b[0;34m:\u001b[0m\u001b[0;34m\u001b[0m\u001b[0;34m\u001b[0m\u001b[0m\n\u001b[1;32m    747\u001b[0m             \u001b[0;32mreturn\u001b[0m \u001b[0mvalue\u001b[0m\u001b[0;34m\u001b[0m\u001b[0;34m\u001b[0m\u001b[0m\n\u001b[0;32m--> 748\u001b[0;31m         \u001b[0;32mraise\u001b[0m \u001b[0mvalue\u001b[0m\u001b[0;34m\u001b[0m\u001b[0;34m\u001b[0m\u001b[0m\n\u001b[0m\u001b[1;32m    749\u001b[0m \u001b[0;34m\u001b[0m\u001b[0m\n\u001b[1;32m    750\u001b[0m     \u001b[0m__next__\u001b[0m \u001b[0;34m=\u001b[0m \u001b[0mnext\u001b[0m                    \u001b[0;31m# XXX\u001b[0m\u001b[0;34m\u001b[0m\u001b[0;34m\u001b[0m\u001b[0m\n",
      "\u001b[0;31mTypeError\u001b[0m: '<=' not supported between instances of 'int' and 'str'"
     ]
    }
   ],
   "source": [
    "if __name__ ==  '__main__': \n",
    "    # for more on multiprocessing, check src/brun \n",
    "    batchrunner = brun.BatchrunnerMP(model=School, \n",
    "                                     map_path=map_path,\n",
    "                                     schedule_path=schedule_path,\n",
    "                                     max_steps=max_steps, \n",
    "                                     iterations=iterations, \n",
    "                                     fixed_parameters=fixed_parameters, \n",
    "                                     variable_parameters=variable_parameters)\n",
    "    results = batchrunner.run_all()"
   ]
  },
  {
   "cell_type": "code",
   "execution_count": null,
   "metadata": {},
   "outputs": [],
   "source": [
    "for params, dfs in results.items():\n",
    "    write_output(params, dfs, map_path)"
   ]
  },
  {
   "cell_type": "code",
   "execution_count": null,
   "metadata": {},
   "outputs": [],
   "source": []
  }
 ],
 "metadata": {
  "kernelspec": {
   "display_name": "Python 3",
   "language": "python",
   "name": "python3"
  },
  "language_info": {
   "codemirror_mode": {
    "name": "ipython",
    "version": 3
   },
   "file_extension": ".py",
   "mimetype": "text/x-python",
   "name": "python",
   "nbconvert_exporter": "python",
   "pygments_lexer": "ipython3",
   "version": "3.7.7"
  },
  "toc": {
   "base_numbering": 1,
   "nav_menu": {},
   "number_sections": false,
   "sideBar": false,
   "skip_h1_title": false,
   "title_cell": "Table of Contents",
   "title_sidebar": "Contents",
   "toc_cell": false,
   "toc_position": {},
   "toc_section_display": false,
   "toc_window_display": false
  }
 },
 "nbformat": 4,
 "nbformat_minor": 4
}
